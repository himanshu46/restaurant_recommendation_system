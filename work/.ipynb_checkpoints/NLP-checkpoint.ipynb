{
 "cells": [
  {
   "cell_type": "code",
   "execution_count": 1,
   "id": "7627efa4-3355-40ca-a51a-c2bdb01a63d2",
   "metadata": {},
   "outputs": [],
   "source": [
    "import numpy as np\n",
    "import pandas as pd\n",
    "import matplotlib.pyplot as plt\n",
    "import seaborn as sns\n",
    "%matplotlib inline"
   ]
  },
  {
   "cell_type": "code",
   "execution_count": 8,
   "id": "61972bc4-c0fa-4fbb-a7f5-9a6b8b3cd677",
   "metadata": {},
   "outputs": [],
   "source": [
    "df= pd.read_csv(\"../data/zomato.csv\")"
   ]
  },
  {
   "cell_type": "code",
   "execution_count": 9,
   "id": "04ac04f6-8afa-485a-8577-b808fd70cdb8",
   "metadata": {},
   "outputs": [],
   "source": [
    "reviews =df[\"reviews_list\"]"
   ]
  },
  {
   "cell_type": "code",
   "execution_count": 10,
   "id": "e1e7b1fc-9c51-4b6b-9f1a-c36843c38280",
   "metadata": {},
   "outputs": [
    {
     "data": {
      "text/plain": [
       "'[(\\'Rated 4.0\\', \\'RATED\\\\n  A beautiful place to dine in.The interiors take you back to the Mughal era. The lightings are just perfect.We went there on the occasion of Christmas and so they had only limited items available. But the taste and service was not compromised at all.The only complaint is that the breads could have been better.Would surely like to come here again.\\'), (\\'Rated 4.0\\', \\'RATED\\\\n  I was here for dinner with my family on a weekday. The restaurant was completely empty. Ambience is good with some good old hindi music. Seating arrangement are good too. We ordered masala papad, panner and baby corn starters, lemon and corrionder soup, butter roti, olive and chilli paratha. Food was fresh and good, service is good too. Good for family hangout.\\\\nCheers\\'), (\\'Rated 2.0\\', \\'RATED\\\\n  Its a restaurant near to Banashankari BDA. Me along with few of my office friends visited to have buffet but unfortunately they only provide veg buffet. On inquiring they said this place is mostly visited by vegetarians. Anyways we ordered ala carte items which took ages to come. Food was ok ok. Definitely not visiting anymore.\\'), (\\'Rated 4.0\\', \\'RATED\\\\n  We went here on a weekend and one of us had the buffet while two of us took Ala Carte. Firstly the ambience and service of this place is great! The buffet had a lot of items and the good was good. We had a Pumpkin Halwa intm the dessert which was amazing. Must try! The kulchas are great here. Cheers!\\'), (\\'Rated 5.0\\', \\'RATED\\\\n  The best thing about the place is itÃ\\x83\\\\x83Ã\\x82\\\\x83Ã\\x83\\\\x82Ã\\x82\\\\x82Ã\\x83\\\\x83Ã\\x82\\\\x82Ã\\x83\\\\x82Ã\\x82\\\\x92s ambiance. Second best thing was yummy ? food. We try buffet and buffet food was not disappointed us.\\\\nTest ?. ?? ?? ?? ?? ??\\\\nQuality ?. ??????????.\\\\nService: Staff was very professional and friendly.\\\\n\\\\nOverall experience was excellent.\\\\n\\\\nsubirmajumder85.wixsite.com\\'), (\\'Rated 5.0\\', \\'RATED\\\\n  Great food and pleasant ambience. Expensive but Coll place to chill and relax......\\\\n\\\\nService is really very very good and friendly staff...\\\\n\\\\nFood : 5/5\\\\nService : 5/5\\\\nAmbience :5/5\\\\nOverall :5/5\\'), (\\'Rated 4.0\\', \\'RATED\\\\n  Good ambience with tasty food.\\\\nCheese chilli paratha with Bhutta palak methi curry is a good combo.\\\\nLemon Chicken in the starters is a must try item.\\\\nEgg fried rice was also quite tasty.\\\\nIn the mocktails, recommend \"Alice in Junoon\". Do not miss it.\\'), (\\'Rated 4.0\\', \\'RATED\\\\n  You canÃ\\x83\\\\x83Ã\\x82\\\\x83Ã\\x83\\\\x82Ã\\x82\\\\x82Ã\\x83\\\\x83Ã\\x82\\\\x82Ã\\x83\\\\x82Ã\\x82\\\\x92t go wrong with Jalsa. Never been a fan of their buffet and thus always order alacarteÃ\\x83\\\\x83Ã\\x82\\\\x83Ã\\x83\\\\x82Ã\\x82\\\\x82Ã\\x83\\\\x83Ã\\x82\\\\x82Ã\\x83\\\\x82Ã\\x82\\\\x92. Service at times can be on the slower side but food is worth the wait.\\'), (\\'Rated 5.0\\', \\'RATED\\\\n  Overdelighted by the service and food provided at this place. A royal and ethnic atmosphere builds a strong essence of being in India and also the quality and taste of food is truly authentic. I would totally recommend to visit this place once.\\'), (\\'Rated 4.0\\', \\'RATED\\\\n  The place is nice and comfortable. Food wise all jalea outlets maintain a good standard. The soya chaap was a standout dish. Clearly one of trademark dish as per me and a must try.\\\\n\\\\nThe only concern is the parking. It very congested and limited to just 5cars. The basement parking is very steep and makes it cumbersome\\'), (\\'Rated 4.0\\', \\'RATED\\\\n  The place is nice and comfortable. Food wise all jalea outlets maintain a good standard. The soya chaap was a standout dish. Clearly one of trademark dish as per me and a must try.\\\\n\\\\nThe only concern is the parking. It very congested and limited to just 5cars. The basement parking is very steep and makes it cumbersome\\'), (\\'Rated 4.0\\', \\'RATED\\\\n  The place is nice and comfortable. Food wise all jalea outlets maintain a good standard. The soya chaap was a standout dish. Clearly one of trademark dish as per me and a must try.\\\\n\\\\nThe only concern is the parking. It very congested and limited to just 5cars. The basement parking is very steep and makes it cumbersome\\')]'"
      ]
     },
     "execution_count": 10,
     "metadata": {},
     "output_type": "execute_result"
    }
   ],
   "source": [
    "reviews[0]"
   ]
  },
  {
   "cell_type": "code",
   "execution_count": 80,
   "id": "0e1e0157-e376-45cf-a73c-dbb9f7b5e971",
   "metadata": {},
   "outputs": [],
   "source": [
    "import re\n",
    "import textblob\n",
    "from nltk.corpus import stopwords\n",
    "from nltk.tokenize import word_tokenize"
   ]
  },
  {
   "cell_type": "code",
   "execution_count": 112,
   "id": "7a0a946a-f5f2-4602-a8b4-b395989f8dde",
   "metadata": {},
   "outputs": [
    {
     "name": "stdout",
     "output_type": "stream",
     "text": [
      "[('Rated 4.0', 'RATED\\n  A beautiful place to dine in.The interiors take you back to the Mughal era. The lightings are just perfect.We went there on the occasion of Christmas and so they had only limited items available. But the taste and service was not compromised at all.The only complaint is that the breads could have been better.Would surely like to come here again.' \n",
      " \n",
      "\n",
      "beautiful place to dine in The interiors take you back to the Mughal era The lightings are just perfect We went there on the occasion of Christmas and so they had only limited items available But the taste and service was not compromised at all The only complaint is that the breads could have been better Would surely like to come here again \n",
      "\n",
      "Sentiment(polarity=0.2878571428571429, subjectivity=0.6131746031746032) \n",
      "\n",
      ", ('Rated 4.0', 'RATED\\n  I was here for dinner with my family on a weekday. The restaurant was completely empty. Ambience is good with some good old hindi music. Seating arrangement are good too. We ordered masala papad, panner and baby corn starters, lemon and corrionder soup, butter roti, olive and chilli paratha. Food was fresh and good, service is good too. Good for family hangout.\\nCheers' \n",
      " \n",
      "\n",
      "was here for dinner with my family on weekday The restaurant was completely empty Ambience is good with some good old hindi music Seating arrangement are good too We ordered masala papad panner and baby corn starters lemon and corrionder soup butter roti olive and chilli paratha Food was fresh and good service is good too Good for family hangout nCheers \n",
      "\n",
      "Sentiment(polarity=0.5, subjectivity=0.5333333333333334) \n",
      "\n",
      ", ('Rated 2.0', 'RATED\\n  Its a restaurant near to Banashankari BDA. Me along with few of my office friends visited to have buffet but unfortunately they only provide veg buffet. On inquiring they said this place is mostly visited by vegetarians. Anyways we ordered ala carte items which took ages to come. Food was ok ok. Definitely not visiting anymore.' \n",
      " \n",
      "\n",
      "Its restaurant near to Banashankari BDA Me along with few of my office friends visited to have buffet but unfortunately they only provide veg buffet On inquiring they said this place is mostly visited by vegetarians Anyways we ordered ala carte items which took ages to come Food was ok ok Definitely not visiting anymore \n",
      "\n",
      "Sentiment(polarity=0.1125, subjectivity=0.5625) \n",
      "\n",
      ", ('Rated 4.0', 'RATED\\n  We went here on a weekend and one of us had the buffet while two of us took Ala Carte. Firstly the ambience and service of this place is great! The buffet had a lot of items and the good was good. We had a Pumpkin Halwa intm the dessert which was amazing. Must try! The kulchas are great here. Cheers!' \n",
      " \n",
      "\n",
      "We went here on weekend and one of us had the buffet while two of us took Ala Carte Firstly the ambience and service of this place is great The buffet had lot of items and the good was good We had Pumpkin Halwa intm the dessert which was amazing Must try The kulchas are great here Cheers \n",
      "\n",
      "Sentiment(polarity=0.6416666666666667, subjectivity=0.6555555555555556) \n",
      "\n",
      ", ('Rated 5.0', 'RATED\\n  The best thing about the place is itÃ\\x83Ã\\x83Ã\\x82Ã\\x82Ã\\x83Ã\\x82Ã\\x82Ã\\x92s ambiance. Second best thing was yummy ? food. We try buffet and buffet food was not disappointed us.\\nTest ?. ?? ?? ?? ?? ??\\nQuality ?. ??????????.\\nService: Staff was very professional and friendly.\\n\\nOverall experience was excellent.\\n\\nsubirmajumder85.wixsite.com' \n",
      " \n",
      "\n",
      "The best thing about the place is itxxxxxxxxs ambiance Second best thing was yummy food We try buffet and buffet food was not disappointed us nTest nQuality nService Staff was very professional and friendly nnOverall experience was excellent nnsubirmajumder wixsite com \n",
      "\n",
      "Sentiment(polarity=0.5542857142857143, subjectivity=0.4257142857142857) \n",
      "\n",
      ", ('Rated 5.0', 'RATED\\n  Great food and pleasant ambience. Expensive but Coll place to chill and relax......\\n\\nService is really very very good and friendly staff...\\n\\nFood : 5/5\\nService : 5/5\\nAmbience :5/5\\nOverall :5/5' \n",
      " \n",
      "\n",
      "Great food and pleasant ambience Expensive but Coll place to chill and relax nnService is really very very good and friendly staff nnFood nService nAmbience nOverall \n",
      "\n",
      "Sentiment(polarity=0.46366666666666667, subjectivity=0.7393333333333334) \n",
      "\n",
      ", ('Rated 4.0', 'RATED\\n  Good ambience with tasty food.\\nCheese chilli paratha with Bhutta palak methi curry is a good combo.\\nLemon Chicken in the starters is a must try item.\\nEgg fried rice was also quite tasty.\\nIn the mocktails, recommend \"Alice in Junoon\". Do not miss it.' \n",
      " \n",
      "\n",
      "Good ambience with tasty food nCheese chilli paratha with Bhutta palak methi curry is good combo nLemon Chicken in the starters is must try item nEgg fried rice was also quite tasty nIn the mocktails recommend Alice in Junoon Do not miss it \n",
      "\n",
      "Sentiment(polarity=0.26666666666666666, subjectivity=0.7166666666666668) \n",
      "\n",
      ", ('Rated 4.0', 'RATED\\n  You canÃ\\x83Ã\\x83Ã\\x82Ã\\x82Ã\\x83Ã\\x82Ã\\x82Ã\\x92t go wrong with Jalsa. Never been a fan of their buffet and thus always order alacarteÃ\\x83Ã\\x83Ã\\x82Ã\\x82Ã\\x83Ã\\x82Ã\\x82Ã\\x92. Service at times can be on the slower side but food is worth the wait.' \n",
      " \n",
      "\n",
      "You canxxxxxxxxt go wrong with Jalsa Never been fan of their buffet and thus always order alacartexxxxxxxx Service at times can be on the slower side but food is worth the wait \n",
      "\n",
      "Sentiment(polarity=-0.1, subjectivity=0.5) \n",
      "\n",
      ", ('Rated 5.0', 'RATED\\n  Overdelighted by the service and food provided at this place. A royal and ethnic atmosphere builds a strong essence of being in India and also the quality and taste of food is truly authentic. I would totally recommend to visit this place once.' \n",
      " \n",
      "\n",
      "Overdelighted by the service and food provided at this place royal and ethnic atmosphere builds strong essence of being in India and also the quality and taste of food is truly authentic would totally recommend to visit this place once \n",
      "\n",
      "Sentiment(polarity=0.3111111111111111, subjectivity=0.7444444444444445) \n",
      "\n",
      ", ('Rated 4.0', 'RATED\\n  The place is nice and comfortable. Food wise all jalea outlets maintain a good standard. The soya chaap was a standout dish. Clearly one of trademark dish as per me and a must try.\\n\\nThe only concern is the parking. It very congested and limited to just 5cars. The basement parking is very steep and makes it cumbersome' \n",
      " \n",
      "\n",
      "The place is nice and comfortable Food wise all jalea outlets maintain good standard The soya chaap was standout dish Clearly one of trademark dish as per me and must try nnThe only concern is the parking It very congested and limited to just cars The basement parking is very steep and makes it cumbersome \n",
      "\n",
      "Sentiment(polarity=0.28285714285714286, subjectivity=0.5426190476190477) \n",
      "\n",
      ", ('Rated 4.0', 'RATED\\n  The place is nice and comfortable. Food wise all jalea outlets maintain a good standard. The soya chaap was a standout dish. Clearly one of trademark dish as per me and a must try.\\n\\nThe only concern is the parking. It very congested and limited to just 5cars. The basement parking is very steep and makes it cumbersome' \n",
      " \n",
      "\n",
      "The place is nice and comfortable Food wise all jalea outlets maintain good standard The soya chaap was standout dish Clearly one of trademark dish as per me and must try nnThe only concern is the parking It very congested and limited to just cars The basement parking is very steep and makes it cumbersome \n",
      "\n",
      "Sentiment(polarity=0.28285714285714286, subjectivity=0.5426190476190477) \n",
      "\n",
      ", ('Rated 4.0', 'RATED\\n  The place is nice and comfortable. Food wise all jalea outlets maintain a good standard. The soya chaap was a standout dish. Clearly one of trademark dish as per me and a must try.\\n\\nThe only concern is the parking. It very congested and limited to just 5cars. The basement parking is very steep and makes it cumbersome' \n",
      " \n",
      "\n",
      "The place is nice and comfortable Food wise all jalea outlets maintain good standard The soya chaap was standout dish Clearly one of trademark dish as per me and must try nnThe only concern is the parking It very congested and limited to just cars The basement parking is very steep and makes it cumbersome \n",
      "\n",
      "Sentiment(polarity=0.28285714285714286, subjectivity=0.5426190476190477) \n",
      "\n",
      "] \n",
      " \n",
      "\n",
      " \n",
      "\n",
      "Sentiment(polarity=0.0, subjectivity=0.0) \n",
      "\n"
     ]
    }
   ],
   "source": [
    "r = reviews[0].split(')')\n",
    "for review in r:\n",
    "    print(review,'\\n \\n')\n",
    "    review = re.sub(\"\\.\",\" \",review)\n",
    "    review = re.sub('\\n',\" \",review)\n",
    "    review = re.sub(\"Rated\",\"\",review)\n",
    "    review = re.sub(\"RATED\",\"\",review)\n",
    "    review = re.sub(\"[^A-Za-z ]\",\"\",review)\n",
    "    words = word_tokenize(review)\n",
    "#     print(words)\n",
    "#     review = [word for word in words if word.lower() not in stopwords.words('english')]\n",
    "    review = [word for word in words if len(word)!=1]\n",
    "    review = ' '.join(review)\n",
    "    score = textblob.TextBlob(review).sentiment\n",
    "    print(review,'\\n')\n",
    "    print(score,\"\\n\")"
   ]
  },
  {
   "cell_type": "code",
   "execution_count": 104,
   "id": "a8f655d3-c202-4283-8148-50af6254e4bf",
   "metadata": {},
   "outputs": [
    {
     "name": "stdout",
     "output_type": "stream",
     "text": [
      "     A beautiful place to dine in The interiors take you back to the Mughal era  The lightings are just perfect We went there on the occasion of Christmas and so they had only limited items available  But the taste and service was not compromised at all The only complaint is that the breads could have been better Would surely like to come here again       I was here for dinner with my family on a weekday  The restaurant was completely empty  Ambience is good with some good old hindi music  Seating arrangement are good too  We ordered masala papad panner and baby corn starters lemon and corrionder soup butter roti olive and chilli paratha  Food was fresh and good service is good too  Good for family hangout nCheers      Its a restaurant near to Banashankari BDA  Me along with few of my office friends visited to have buffet but unfortunately they only provide veg buffet  On inquiring they said this place is mostly visited by vegetarians  Anyways we ordered ala carte items which took ages to come  Food was ok ok  Definitely not visiting anymore       We went here on a weekend and one of us had the buffet while two of us took Ala Carte  Firstly the ambience and service of this place is great The buffet had a lot of items and the good was good  We had a Pumpkin Halwa intm the dessert which was amazing  Must try The kulchas are great here  Cheers      The best thing about the place is itxxxxxxxxs ambiance  Second best thing was yummy  food  We try buffet and buffet food was not disappointed us nTest       nQuality    nService Staff was very professional and friendly nnOverall experience was excellent nnsubirmajumder wixsite com      Great food and pleasant ambience  Expensive but Coll place to chill and relax      nnService is really very very good and friendly staff   nnFood  nService  nAmbience nOverall       Good ambience with tasty food nCheese chilli paratha with Bhutta palak methi curry is a good combo nLemon Chicken in the starters is a must try item nEgg fried rice was also quite tasty nIn the mocktails recommend Alice in Junoon  Do not miss it       You canxxxxxxxxt go wrong with Jalsa  Never been a fan of their buffet and thus always order alacartexxxxxxxx  Service at times can be on the slower side but food is worth the wait       Overdelighted by the service and food provided at this place  A royal and ethnic atmosphere builds a strong essence of being in India and also the quality and taste of food is truly authentic  I would totally recommend to visit this place once       The place is nice and comfortable  Food wise all jalea outlets maintain a good standard  The soya chaap was a standout dish  Clearly one of trademark dish as per me and a must try nnThe only concern is the parking  It very congested and limited to just cars  The basement parking is very steep and makes it cumbersome      The place is nice and comfortable  Food wise all jalea outlets maintain a good standard  The soya chaap was a standout dish  Clearly one of trademark dish as per me and a must try nnThe only concern is the parking  It very congested and limited to just cars  The basement parking is very steep and makes it cumbersome      The place is nice and comfortable  Food wise all jalea outlets maintain a good standard  The soya chaap was a standout dish  Clearly one of trademark dish as per me and a must try nnThe only concern is the parking  It very congested and limited to just cars  The basement parking is very steep and makes it cumbersome\n",
      "Sentiment(polarity=0.34151749856569125, subjectivity=0.574742780646395)\n"
     ]
    }
   ],
   "source": [
    "review = reviews[0]\n",
    "review = re.sub(\"\\.\",\" \",review)\n",
    "review = re.sub(\"[^A-Za-z ]\",\"\",review)\n",
    "review = re.sub(\"Rated\",\"\",review)\n",
    "review = re.sub(\"RATEDn\",\"\",review)\n",
    "score = textblob.TextBlob(review).sentiment\n",
    "print(review)\n",
    "print(score)"
   ]
  },
  {
   "cell_type": "raw",
   "id": "10cf75b2-ae69-448f-89b7-2f5d88c57c0b",
   "metadata": {},
   "source": []
  },
  {
   "cell_type": "raw",
   "id": "26f54ce3-7540-4c99-875e-ef93bb4e2ec5",
   "metadata": {},
   "source": []
  },
  {
   "cell_type": "code",
   "execution_count": 29,
   "id": "1e49d294-0f31-468e-8222-6e921c7c7d46",
   "metadata": {},
   "outputs": [
    {
     "data": {
      "text/plain": [
       "13"
      ]
     },
     "execution_count": 29,
     "metadata": {},
     "output_type": "execute_result"
    }
   ],
   "source": [
    "len(review)"
   ]
  },
  {
   "cell_type": "code",
   "execution_count": 30,
   "id": "7219863e-5ae8-443d-9d39-c9d703f58a2b",
   "metadata": {},
   "outputs": [
    {
     "name": "stdout",
     "output_type": "stream",
     "text": [
      "[('Rated 4.0', 'RATED\\n  A beautiful place to dine in.The interiors take you back to the Mughal era. The lightings are just perfect.We went there on the occasion of Christmas and so they had only limited items available. But the taste and service was not compromised at all.The only complaint is that the breads could have been better.Would surely like to come here again.'\n",
      ", ('Rated 4.0', 'RATED\\n  I was here for dinner with my family on a weekday. The restaurant was completely empty. Ambience is good with some good old hindi music. Seating arrangement are good too. We ordered masala papad, panner and baby corn starters, lemon and corrionder soup, butter roti, olive and chilli paratha. Food was fresh and good, service is good too. Good for family hangout.\\nCheers'\n",
      ", ('Rated 2.0', 'RATED\\n  Its a restaurant near to Banashankari BDA. Me along with few of my office friends visited to have buffet but unfortunately they only provide veg buffet. On inquiring they said this place is mostly visited by vegetarians. Anyways we ordered ala carte items which took ages to come. Food was ok ok. Definitely not visiting anymore.'\n",
      ", ('Rated 4.0', 'RATED\\n  We went here on a weekend and one of us had the buffet while two of us took Ala Carte. Firstly the ambience and service of this place is great! The buffet had a lot of items and the good was good. We had a Pumpkin Halwa intm the dessert which was amazing. Must try! The kulchas are great here. Cheers!'\n",
      ", ('Rated 5.0', 'RATED\\n  The best thing about the place is itÃ\\x83Ã\\x83Ã\\x82Ã\\x82Ã\\x83Ã\\x82Ã\\x82Ã\\x92s ambiance. Second best thing was yummy ? food. We try buffet and buffet food was not disappointed us.\\nTest ?. ?? ?? ?? ?? ??\\nQuality ?. ??????????.\\nService: Staff was very professional and friendly.\\n\\nOverall experience was excellent.\\n\\nsubirmajumder85.wixsite.com'\n",
      ", ('Rated 5.0', 'RATED\\n  Great food and pleasant ambience. Expensive but Coll place to chill and relax......\\n\\nService is really very very good and friendly staff...\\n\\nFood : 5/5\\nService : 5/5\\nAmbience :5/5\\nOverall :5/5'\n",
      ", ('Rated 4.0', 'RATED\\n  Good ambience with tasty food.\\nCheese chilli paratha with Bhutta palak methi curry is a good combo.\\nLemon Chicken in the starters is a must try item.\\nEgg fried rice was also quite tasty.\\nIn the mocktails, recommend \"Alice in Junoon\". Do not miss it.'\n",
      ", ('Rated 4.0', 'RATED\\n  You canÃ\\x83Ã\\x83Ã\\x82Ã\\x82Ã\\x83Ã\\x82Ã\\x82Ã\\x92t go wrong with Jalsa. Never been a fan of their buffet and thus always order alacarteÃ\\x83Ã\\x83Ã\\x82Ã\\x82Ã\\x83Ã\\x82Ã\\x82Ã\\x92. Service at times can be on the slower side but food is worth the wait.'\n",
      ", ('Rated 5.0', 'RATED\\n  Overdelighted by the service and food provided at this place. A royal and ethnic atmosphere builds a strong essence of being in India and also the quality and taste of food is truly authentic. I would totally recommend to visit this place once.'\n",
      ", ('Rated 4.0', 'RATED\\n  The place is nice and comfortable. Food wise all jalea outlets maintain a good standard. The soya chaap was a standout dish. Clearly one of trademark dish as per me and a must try.\\n\\nThe only concern is the parking. It very congested and limited to just 5cars. The basement parking is very steep and makes it cumbersome'\n",
      ", ('Rated 4.0', 'RATED\\n  The place is nice and comfortable. Food wise all jalea outlets maintain a good standard. The soya chaap was a standout dish. Clearly one of trademark dish as per me and a must try.\\n\\nThe only concern is the parking. It very congested and limited to just 5cars. The basement parking is very steep and makes it cumbersome'\n",
      ", ('Rated 4.0', 'RATED\\n  The place is nice and comfortable. Food wise all jalea outlets maintain a good standard. The soya chaap was a standout dish. Clearly one of trademark dish as per me and a must try.\\n\\nThe only concern is the parking. It very congested and limited to just 5cars. The basement parking is very steep and makes it cumbersome'\n",
      "]\n"
     ]
    }
   ],
   "source": [
    "for r in review:\n",
    "    print(r)"
   ]
  },
  {
   "cell_type": "code",
   "execution_count": 108,
   "id": "b54ba4f6-895b-42b7-96bf-8b4e4e28b095",
   "metadata": {},
   "outputs": [
    {
     "data": {
      "text/plain": [
       "3"
      ]
     },
     "execution_count": 108,
     "metadata": {},
     "output_type": "execute_result"
    }
   ],
   "source": [
    "len(\"asd\")"
   ]
  },
  {
   "cell_type": "code",
   "execution_count": null,
   "id": "a1b2e932-674f-4581-8033-214fbb8941ad",
   "metadata": {},
   "outputs": [],
   "source": []
  }
 ],
 "metadata": {
  "kernelspec": {
   "display_name": "Python 3",
   "language": "python",
   "name": "python3"
  },
  "language_info": {
   "codemirror_mode": {
    "name": "ipython",
    "version": 3
   },
   "file_extension": ".py",
   "mimetype": "text/x-python",
   "name": "python",
   "nbconvert_exporter": "python",
   "pygments_lexer": "ipython3",
   "version": "3.9.5"
  }
 },
 "nbformat": 4,
 "nbformat_minor": 5
}
