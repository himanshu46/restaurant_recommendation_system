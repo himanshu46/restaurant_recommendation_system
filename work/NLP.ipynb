{
 "cells": [
  {
   "cell_type": "code",
   "execution_count": 1,
   "id": "7627efa4-3355-40ca-a51a-c2bdb01a63d2",
   "metadata": {},
   "outputs": [],
   "source": [
    "import numpy as np\n",
    "import pandas as pd\n",
    "import matplotlib.pyplot as plt\n",
    "import seaborn as sns\n",
    "%matplotlib inline"
   ]
  },
  {
   "cell_type": "code",
   "execution_count": 8,
   "id": "61972bc4-c0fa-4fbb-a7f5-9a6b8b3cd677",
   "metadata": {},
   "outputs": [],
   "source": [
    "df= pd.read_csv(\"../data/zomato.csv\")"
   ]
  },
  {
   "cell_type": "code",
   "execution_count": 9,
   "id": "04ac04f6-8afa-485a-8577-b808fd70cdb8",
   "metadata": {},
   "outputs": [],
   "source": [
    "reviews =df[\"reviews_list\"]"
   ]
  },
  {
   "cell_type": "code",
   "execution_count": 10,
   "id": "e1e7b1fc-9c51-4b6b-9f1a-c36843c38280",
   "metadata": {},
   "outputs": [
    {
     "data": {
      "text/plain": [
       "'[(\\'Rated 4.0\\', \\'RATED\\\\n  A beautiful place to dine in.The interiors take you back to the Mughal era. The lightings are just perfect.We went there on the occasion of Christmas and so they had only limited items available. But the taste and service was not compromised at all.The only complaint is that the breads could have been better.Would surely like to come here again.\\'), (\\'Rated 4.0\\', \\'RATED\\\\n  I was here for dinner with my family on a weekday. The restaurant was completely empty. Ambience is good with some good old hindi music. Seating arrangement are good too. We ordered masala papad, panner and baby corn starters, lemon and corrionder soup, butter roti, olive and chilli paratha. Food was fresh and good, service is good too. Good for family hangout.\\\\nCheers\\'), (\\'Rated 2.0\\', \\'RATED\\\\n  Its a restaurant near to Banashankari BDA. Me along with few of my office friends visited to have buffet but unfortunately they only provide veg buffet. On inquiring they said this place is mostly visited by vegetarians. Anyways we ordered ala carte items which took ages to come. Food was ok ok. Definitely not visiting anymore.\\'), (\\'Rated 4.0\\', \\'RATED\\\\n  We went here on a weekend and one of us had the buffet while two of us took Ala Carte. Firstly the ambience and service of this place is great! The buffet had a lot of items and the good was good. We had a Pumpkin Halwa intm the dessert which was amazing. Must try! The kulchas are great here. Cheers!\\'), (\\'Rated 5.0\\', \\'RATED\\\\n  The best thing about the place is itÃ\\x83\\\\x83Ã\\x82\\\\x83Ã\\x83\\\\x82Ã\\x82\\\\x82Ã\\x83\\\\x83Ã\\x82\\\\x82Ã\\x83\\\\x82Ã\\x82\\\\x92s ambiance. Second best thing was yummy ? food. We try buffet and buffet food was not disappointed us.\\\\nTest ?. ?? ?? ?? ?? ??\\\\nQuality ?. ??????????.\\\\nService: Staff was very professional and friendly.\\\\n\\\\nOverall experience was excellent.\\\\n\\\\nsubirmajumder85.wixsite.com\\'), (\\'Rated 5.0\\', \\'RATED\\\\n  Great food and pleasant ambience. Expensive but Coll place to chill and relax......\\\\n\\\\nService is really very very good and friendly staff...\\\\n\\\\nFood : 5/5\\\\nService : 5/5\\\\nAmbience :5/5\\\\nOverall :5/5\\'), (\\'Rated 4.0\\', \\'RATED\\\\n  Good ambience with tasty food.\\\\nCheese chilli paratha with Bhutta palak methi curry is a good combo.\\\\nLemon Chicken in the starters is a must try item.\\\\nEgg fried rice was also quite tasty.\\\\nIn the mocktails, recommend \"Alice in Junoon\". Do not miss it.\\'), (\\'Rated 4.0\\', \\'RATED\\\\n  You canÃ\\x83\\\\x83Ã\\x82\\\\x83Ã\\x83\\\\x82Ã\\x82\\\\x82Ã\\x83\\\\x83Ã\\x82\\\\x82Ã\\x83\\\\x82Ã\\x82\\\\x92t go wrong with Jalsa. Never been a fan of their buffet and thus always order alacarteÃ\\x83\\\\x83Ã\\x82\\\\x83Ã\\x83\\\\x82Ã\\x82\\\\x82Ã\\x83\\\\x83Ã\\x82\\\\x82Ã\\x83\\\\x82Ã\\x82\\\\x92. Service at times can be on the slower side but food is worth the wait.\\'), (\\'Rated 5.0\\', \\'RATED\\\\n  Overdelighted by the service and food provided at this place. A royal and ethnic atmosphere builds a strong essence of being in India and also the quality and taste of food is truly authentic. I would totally recommend to visit this place once.\\'), (\\'Rated 4.0\\', \\'RATED\\\\n  The place is nice and comfortable. Food wise all jalea outlets maintain a good standard. The soya chaap was a standout dish. Clearly one of trademark dish as per me and a must try.\\\\n\\\\nThe only concern is the parking. It very congested and limited to just 5cars. The basement parking is very steep and makes it cumbersome\\'), (\\'Rated 4.0\\', \\'RATED\\\\n  The place is nice and comfortable. Food wise all jalea outlets maintain a good standard. The soya chaap was a standout dish. Clearly one of trademark dish as per me and a must try.\\\\n\\\\nThe only concern is the parking. It very congested and limited to just 5cars. The basement parking is very steep and makes it cumbersome\\'), (\\'Rated 4.0\\', \\'RATED\\\\n  The place is nice and comfortable. Food wise all jalea outlets maintain a good standard. The soya chaap was a standout dish. Clearly one of trademark dish as per me and a must try.\\\\n\\\\nThe only concern is the parking. It very congested and limited to just 5cars. The basement parking is very steep and makes it cumbersome\\')]'"
      ]
     },
     "execution_count": 10,
     "metadata": {},
     "output_type": "execute_result"
    }
   ],
   "source": [
    "reviews[0]"
   ]
  },
  {
   "cell_type": "code",
   "execution_count": 80,
   "id": "0e1e0157-e376-45cf-a73c-dbb9f7b5e971",
   "metadata": {},
   "outputs": [],
   "source": [
    "import re\n",
    "import textblob\n",
    "from nltk.corpus import stopwords\n",
    "from nltk.tokenize import word_tokenize"
   ]
  },
  {
   "cell_type": "code",
   "execution_count": 120,
   "id": "7a0a946a-f5f2-4602-a8b4-b395989f8dde",
   "metadata": {},
   "outputs": [
    {
     "name": "stdout",
     "output_type": "stream",
     "text": [
      "3.886325396825397\n",
      "2.796430724698582\n",
      "5.785097345636819\n",
      "12.57792591667591\n",
      "0.8290909090909091\n",
      "0.3333333333333333\n",
      "0.3390909090909091\n",
      "20.490991092241092\n",
      "19.583536424315973\n",
      "2.1113510101010102\n",
      "1.6841856060606062\n",
      "3.0942430508088403\n",
      "3.7297826479076477\n",
      "2.9588823483939035\n",
      "6.716168774208247\n",
      "1.0089047619047617\n",
      "0.04377289377289378\n",
      "0.6581060606060606\n",
      "0.31616666666666665\n",
      "1.9741666666666666\n",
      "-0.14513888888888893\n",
      "0.16\n",
      "1.755654310966811\n",
      "0.18\n",
      "5.371640211640211\n",
      "1.5813131313131312\n",
      "58.94912367724868\n",
      "0.15218855218855218\n",
      "1.1519430569430569\n",
      "0.4775\n",
      "2.000505772005772\n",
      "10.657132464096751\n",
      "0.1\n",
      "2.4142736892736893\n",
      "40.135991963452085\n",
      "3.04719252044252\n",
      "26.098240079365084\n",
      "2.263360064178246\n",
      "21.21797287588954\n",
      "0.2854166666666667\n",
      "0.9\n",
      "0.4155555555555555\n",
      "1.2\n",
      "1.4198214285714288\n",
      "53.422535277222735\n",
      "12.887112921191871\n",
      "0.45579365079365075\n",
      "0.06710317460317458\n",
      "0.7023106060606061\n",
      "0.2264102564102564\n",
      "0.06755952380952383\n",
      "1.0865740740740741\n",
      "3.062689393939394\n",
      "3.045073953823954\n",
      "3.955179894179895\n",
      "-0.08423382173382166\n",
      "0.005000000000000025\n",
      "55.32136228354987\n",
      "0.5067480158730159\n",
      "1.265079365079365\n",
      "31.61420675930172\n",
      "1.9056944444444444\n",
      "1.8184325396825398\n",
      "3.236601731601732\n",
      "5.107138347763347\n",
      "3.187824852163087\n",
      "1.8740991674447556\n",
      "2.2685904373404377\n",
      "5.188983766233766\n",
      "-0.2229591836734694\n",
      "1.955348223205366\n",
      "2.640224008795437\n",
      "1.0015833333333333\n",
      "7.140998178288763\n",
      "1.1142757936507934\n",
      "0.0\n",
      "5.0013955026455035\n",
      "-1.2131249999999998\n",
      "2.9256060606060608\n",
      "4.465381269964604\n",
      "0.7596969696969696\n",
      "1.6272997835497836\n",
      "1.3387301587301585\n",
      "0.02721088435374152\n",
      "0.4228571428571429\n",
      "5.8658859928651585\n",
      "6.9796134817563384\n",
      "1.798826599326599\n",
      "0.5759259259259258\n",
      "1.6449122807017544\n",
      "-0.20454545454545459\n",
      "0.0\n",
      "0.0\n",
      "1.0297142857142858\n",
      "0.19999999999999998\n",
      "0.0\n",
      "0.675\n",
      "5.645935185185186\n",
      "0.3055555555555555\n",
      "0.16215277777777776\n",
      "7.823863465899178\n",
      "32.559626863876865\n",
      "0.9936111111111112\n",
      "12.538450877825879\n",
      "1.5813131313131312\n",
      "2.278018449804164\n",
      "0.4893447461629279\n",
      "0.0\n",
      "0.0\n",
      "0.0\n",
      "-0.0464506172839506\n",
      "2.389760822510822\n",
      "0.0\n",
      "0.0\n",
      "-0.475\n",
      "0.0\n",
      "1.3153741496598639\n",
      "0.0\n",
      "0.0\n",
      "1.1604894179894178\n",
      "1.948095238095238\n",
      "0.0\n",
      "0.7937445887445886\n",
      "1.9125355054302422\n",
      "3.0022126117346706\n",
      "0.0\n",
      "0.0\n",
      "1.2226666666666666\n",
      "0.0\n",
      "0.0\n",
      "0.0\n",
      "0.0\n",
      "0.0\n",
      "0.0\n",
      "0.5375\n",
      "0.0\n",
      "0.0\n",
      "0.0\n",
      "0.8866071428571429\n",
      "0.0\n",
      "0.0\n",
      "0.0\n",
      "0.0\n",
      "0.0\n",
      "0.0\n",
      "2.380768398268398\n",
      "0.98\n",
      "1.2945238095238094\n",
      "2.2083838383838383\n",
      "12.652167048637635\n",
      "-0.028076923076923093\n",
      "0.7344771241830065\n",
      "0.2272706766917294\n",
      "-0.09523809523809523\n",
      "-0.09166666666666665\n",
      "3.9451948051948054\n",
      "-0.07083333333333336\n",
      "0.06875000000000003\n",
      "0.35\n",
      "35.16426716141003\n",
      "1.4419444444444445\n",
      "0.3288624338624338\n",
      "0.8777777777777778\n",
      "0.29500000000000004\n",
      "8.005276609964108\n",
      "1.7133333333333334\n",
      "11.142579160257728\n",
      "0.3583333333333334\n",
      "0.7935784313725489\n",
      "85.18781385281396\n",
      "5.420458951762523\n",
      "-2.234583333333333\n",
      "0.6104761904761904\n",
      "0.9099999999999999\n",
      "9.0940616501554\n",
      "0.35\n",
      "0.18634022839905187\n",
      "2.550909090909091\n",
      "0.8\n",
      "-0.1484375\n",
      "4.3855538713069775\n",
      "3.441246600621601\n",
      "0.5201190476190476\n",
      "0.17689158667419533\n",
      "6.72410052910053\n",
      "2.3509970238095237\n",
      "0.21333333333333337\n",
      "2.2506807081807083\n",
      "13.278351037851035\n",
      "0.28559523809523807\n",
      "0.6584297052154195\n",
      "1.7431565656565657\n",
      "0.27\n",
      "1.6841856060606062\n",
      "0.5833333333333334\n",
      "0.0\n",
      "-0.375\n",
      "0.9896825396825396\n",
      "1.4343274078862316\n",
      "-0.14513888888888893\n",
      "0.5528138528138529\n",
      "0.5\n",
      "3.4182202380952376\n",
      "1.3524242424242425\n",
      "1.3093452380952384\n",
      "0.26944444444444443\n"
     ]
    },
    {
     "ename": "KeyboardInterrupt",
     "evalue": "",
     "output_type": "error",
     "traceback": [
      "\u001b[1;31m---------------------------------------------------------------------------\u001b[0m",
      "\u001b[1;31mKeyboardInterrupt\u001b[0m                         Traceback (most recent call last)",
      "\u001b[1;32m<ipython-input-120-7bd51f953eb1>\u001b[0m in \u001b[0;36m<module>\u001b[1;34m\u001b[0m\n\u001b[0;32m     12\u001b[0m         \u001b[0mreview\u001b[0m \u001b[1;33m=\u001b[0m \u001b[0mre\u001b[0m\u001b[1;33m.\u001b[0m\u001b[0msub\u001b[0m\u001b[1;33m(\u001b[0m\u001b[1;34m\"RATED\"\u001b[0m\u001b[1;33m,\u001b[0m\u001b[1;34m\"\"\u001b[0m\u001b[1;33m,\u001b[0m\u001b[0mreview\u001b[0m\u001b[1;33m)\u001b[0m\u001b[1;33m\u001b[0m\u001b[1;33m\u001b[0m\u001b[0m\n\u001b[0;32m     13\u001b[0m         \u001b[0mreview\u001b[0m \u001b[1;33m=\u001b[0m \u001b[0mre\u001b[0m\u001b[1;33m.\u001b[0m\u001b[0msub\u001b[0m\u001b[1;33m(\u001b[0m\u001b[1;34m\"[^A-Za-z ]\"\u001b[0m\u001b[1;33m,\u001b[0m\u001b[1;34m\"\"\u001b[0m\u001b[1;33m,\u001b[0m\u001b[0mreview\u001b[0m\u001b[1;33m)\u001b[0m\u001b[1;33m\u001b[0m\u001b[1;33m\u001b[0m\u001b[0m\n\u001b[1;32m---> 14\u001b[1;33m         \u001b[0mwords\u001b[0m \u001b[1;33m=\u001b[0m \u001b[0mword_tokenize\u001b[0m\u001b[1;33m(\u001b[0m\u001b[0mreview\u001b[0m\u001b[1;33m)\u001b[0m\u001b[1;33m\u001b[0m\u001b[1;33m\u001b[0m\u001b[0m\n\u001b[0m\u001b[0;32m     15\u001b[0m     \u001b[1;31m#     print(words)\u001b[0m\u001b[1;33m\u001b[0m\u001b[1;33m\u001b[0m\u001b[1;33m\u001b[0m\u001b[0m\n\u001b[0;32m     16\u001b[0m     \u001b[1;31m#     review = [word for word in words if word.lower() not in stopwords.words('english')]\u001b[0m\u001b[1;33m\u001b[0m\u001b[1;33m\u001b[0m\u001b[1;33m\u001b[0m\u001b[0m\n",
      "\u001b[1;32mc:\\users\\prati\\appdata\\local\\programs\\python\\python39\\lib\\site-packages\\nltk\\tokenize\\__init__.py\u001b[0m in \u001b[0;36mword_tokenize\u001b[1;34m(text, language, preserve_line)\u001b[0m\n\u001b[0;32m    129\u001b[0m     \"\"\"\n\u001b[0;32m    130\u001b[0m     \u001b[0msentences\u001b[0m \u001b[1;33m=\u001b[0m \u001b[1;33m[\u001b[0m\u001b[0mtext\u001b[0m\u001b[1;33m]\u001b[0m \u001b[1;32mif\u001b[0m \u001b[0mpreserve_line\u001b[0m \u001b[1;32melse\u001b[0m \u001b[0msent_tokenize\u001b[0m\u001b[1;33m(\u001b[0m\u001b[0mtext\u001b[0m\u001b[1;33m,\u001b[0m \u001b[0mlanguage\u001b[0m\u001b[1;33m)\u001b[0m\u001b[1;33m\u001b[0m\u001b[1;33m\u001b[0m\u001b[0m\n\u001b[1;32m--> 131\u001b[1;33m     return [\n\u001b[0m\u001b[0;32m    132\u001b[0m         \u001b[0mtoken\u001b[0m \u001b[1;32mfor\u001b[0m \u001b[0msent\u001b[0m \u001b[1;32min\u001b[0m \u001b[0msentences\u001b[0m \u001b[1;32mfor\u001b[0m \u001b[0mtoken\u001b[0m \u001b[1;32min\u001b[0m \u001b[0m_treebank_word_tokenizer\u001b[0m\u001b[1;33m.\u001b[0m\u001b[0mtokenize\u001b[0m\u001b[1;33m(\u001b[0m\u001b[0msent\u001b[0m\u001b[1;33m)\u001b[0m\u001b[1;33m\u001b[0m\u001b[1;33m\u001b[0m\u001b[0m\n\u001b[0;32m    133\u001b[0m     ]\n",
      "\u001b[1;32mc:\\users\\prati\\appdata\\local\\programs\\python\\python39\\lib\\site-packages\\nltk\\tokenize\\__init__.py\u001b[0m in \u001b[0;36m<listcomp>\u001b[1;34m(.0)\u001b[0m\n\u001b[0;32m    130\u001b[0m     \u001b[0msentences\u001b[0m \u001b[1;33m=\u001b[0m \u001b[1;33m[\u001b[0m\u001b[0mtext\u001b[0m\u001b[1;33m]\u001b[0m \u001b[1;32mif\u001b[0m \u001b[0mpreserve_line\u001b[0m \u001b[1;32melse\u001b[0m \u001b[0msent_tokenize\u001b[0m\u001b[1;33m(\u001b[0m\u001b[0mtext\u001b[0m\u001b[1;33m,\u001b[0m \u001b[0mlanguage\u001b[0m\u001b[1;33m)\u001b[0m\u001b[1;33m\u001b[0m\u001b[1;33m\u001b[0m\u001b[0m\n\u001b[0;32m    131\u001b[0m     return [\n\u001b[1;32m--> 132\u001b[1;33m         \u001b[0mtoken\u001b[0m \u001b[1;32mfor\u001b[0m \u001b[0msent\u001b[0m \u001b[1;32min\u001b[0m \u001b[0msentences\u001b[0m \u001b[1;32mfor\u001b[0m \u001b[0mtoken\u001b[0m \u001b[1;32min\u001b[0m \u001b[0m_treebank_word_tokenizer\u001b[0m\u001b[1;33m.\u001b[0m\u001b[0mtokenize\u001b[0m\u001b[1;33m(\u001b[0m\u001b[0msent\u001b[0m\u001b[1;33m)\u001b[0m\u001b[1;33m\u001b[0m\u001b[1;33m\u001b[0m\u001b[0m\n\u001b[0m\u001b[0;32m    133\u001b[0m     ]\n",
      "\u001b[1;32mc:\\users\\prati\\appdata\\local\\programs\\python\\python39\\lib\\site-packages\\nltk\\tokenize\\destructive.py\u001b[0m in \u001b[0;36mtokenize\u001b[1;34m(self, text, convert_parentheses, return_str)\u001b[0m\n\u001b[0;32m    130\u001b[0m \u001b[1;33m\u001b[0m\u001b[0m\n\u001b[0;32m    131\u001b[0m         \u001b[1;32mfor\u001b[0m \u001b[0mregexp\u001b[0m \u001b[1;32min\u001b[0m \u001b[0mself\u001b[0m\u001b[1;33m.\u001b[0m\u001b[0mCONTRACTIONS2\u001b[0m\u001b[1;33m:\u001b[0m\u001b[1;33m\u001b[0m\u001b[1;33m\u001b[0m\u001b[0m\n\u001b[1;32m--> 132\u001b[1;33m             \u001b[0mtext\u001b[0m \u001b[1;33m=\u001b[0m \u001b[0mregexp\u001b[0m\u001b[1;33m.\u001b[0m\u001b[0msub\u001b[0m\u001b[1;33m(\u001b[0m\u001b[1;34mr\" \\1 \\2 \"\u001b[0m\u001b[1;33m,\u001b[0m \u001b[0mtext\u001b[0m\u001b[1;33m)\u001b[0m\u001b[1;33m\u001b[0m\u001b[1;33m\u001b[0m\u001b[0m\n\u001b[0m\u001b[0;32m    133\u001b[0m         \u001b[1;32mfor\u001b[0m \u001b[0mregexp\u001b[0m \u001b[1;32min\u001b[0m \u001b[0mself\u001b[0m\u001b[1;33m.\u001b[0m\u001b[0mCONTRACTIONS3\u001b[0m\u001b[1;33m:\u001b[0m\u001b[1;33m\u001b[0m\u001b[1;33m\u001b[0m\u001b[0m\n\u001b[0;32m    134\u001b[0m             \u001b[0mtext\u001b[0m \u001b[1;33m=\u001b[0m \u001b[0mregexp\u001b[0m\u001b[1;33m.\u001b[0m\u001b[0msub\u001b[0m\u001b[1;33m(\u001b[0m\u001b[1;34mr\" \\1 \\2 \"\u001b[0m\u001b[1;33m,\u001b[0m \u001b[0mtext\u001b[0m\u001b[1;33m)\u001b[0m\u001b[1;33m\u001b[0m\u001b[1;33m\u001b[0m\u001b[0m\n",
      "\u001b[1;32mc:\\users\\prati\\appdata\\local\\programs\\python\\python39\\lib\\re.py\u001b[0m in \u001b[0;36m_subx\u001b[1;34m(pattern, template)\u001b[0m\n\u001b[0;32m    325\u001b[0m \u001b[1;32mdef\u001b[0m \u001b[0m_subx\u001b[0m\u001b[1;33m(\u001b[0m\u001b[0mpattern\u001b[0m\u001b[1;33m,\u001b[0m \u001b[0mtemplate\u001b[0m\u001b[1;33m)\u001b[0m\u001b[1;33m:\u001b[0m\u001b[1;33m\u001b[0m\u001b[1;33m\u001b[0m\u001b[0m\n\u001b[0;32m    326\u001b[0m     \u001b[1;31m# internal: Pattern.sub/subn implementation helper\u001b[0m\u001b[1;33m\u001b[0m\u001b[1;33m\u001b[0m\u001b[1;33m\u001b[0m\u001b[0m\n\u001b[1;32m--> 327\u001b[1;33m     \u001b[0mtemplate\u001b[0m \u001b[1;33m=\u001b[0m \u001b[0m_compile_repl\u001b[0m\u001b[1;33m(\u001b[0m\u001b[0mtemplate\u001b[0m\u001b[1;33m,\u001b[0m \u001b[0mpattern\u001b[0m\u001b[1;33m)\u001b[0m\u001b[1;33m\u001b[0m\u001b[1;33m\u001b[0m\u001b[0m\n\u001b[0m\u001b[0;32m    328\u001b[0m     \u001b[1;32mif\u001b[0m \u001b[1;32mnot\u001b[0m \u001b[0mtemplate\u001b[0m\u001b[1;33m[\u001b[0m\u001b[1;36m0\u001b[0m\u001b[1;33m]\u001b[0m \u001b[1;32mand\u001b[0m \u001b[0mlen\u001b[0m\u001b[1;33m(\u001b[0m\u001b[0mtemplate\u001b[0m\u001b[1;33m[\u001b[0m\u001b[1;36m1\u001b[0m\u001b[1;33m]\u001b[0m\u001b[1;33m)\u001b[0m \u001b[1;33m==\u001b[0m \u001b[1;36m1\u001b[0m\u001b[1;33m:\u001b[0m\u001b[1;33m\u001b[0m\u001b[1;33m\u001b[0m\u001b[0m\n\u001b[0;32m    329\u001b[0m         \u001b[1;31m# literal replacement\u001b[0m\u001b[1;33m\u001b[0m\u001b[1;33m\u001b[0m\u001b[1;33m\u001b[0m\u001b[0m\n",
      "\u001b[1;31mKeyboardInterrupt\u001b[0m: "
     ]
    }
   ],
   "source": [
    "scores =[]\n",
    "for r in df.reviews_list:\n",
    "    r = r.split(')')\n",
    "    cnt = 0;\n",
    "    score =0\n",
    "    for review in r:\n",
    "        cnt =+1\n",
    "#         print(review,'\\n \\n')\n",
    "        review = re.sub(\"\\.\",\" \",review)\n",
    "        review = re.sub('\\n',\" \",review)\n",
    "        review = re.sub(\"Rated\",\"\",review)\n",
    "        review = re.sub(\"RATED\",\"\",review)\n",
    "        review = re.sub(\"[^A-Za-z ]\",\"\",review)\n",
    "        words = word_tokenize(review)\n",
    "    #     print(words)\n",
    "    #     review = [word for word in words if word.lower() not in stopwords.words('english')]\n",
    "        review = [word for word in words if len(word)!=1]\n",
    "        review = ' '.join(review)\n",
    "        score += textblob.TextBlob(review).sentiment.polarity\n",
    "    score = score/cnt\n",
    "    print(score)\n",
    "    scores.append(score)\n",
    "    "
   ]
  },
  {
   "cell_type": "code",
   "execution_count": 104,
   "id": "a8f655d3-c202-4283-8148-50af6254e4bf",
   "metadata": {},
   "outputs": [
    {
     "name": "stdout",
     "output_type": "stream",
     "text": [
      "     A beautiful place to dine in The interiors take you back to the Mughal era  The lightings are just perfect We went there on the occasion of Christmas and so they had only limited items available  But the taste and service was not compromised at all The only complaint is that the breads could have been better Would surely like to come here again       I was here for dinner with my family on a weekday  The restaurant was completely empty  Ambience is good with some good old hindi music  Seating arrangement are good too  We ordered masala papad panner and baby corn starters lemon and corrionder soup butter roti olive and chilli paratha  Food was fresh and good service is good too  Good for family hangout nCheers      Its a restaurant near to Banashankari BDA  Me along with few of my office friends visited to have buffet but unfortunately they only provide veg buffet  On inquiring they said this place is mostly visited by vegetarians  Anyways we ordered ala carte items which took ages to come  Food was ok ok  Definitely not visiting anymore       We went here on a weekend and one of us had the buffet while two of us took Ala Carte  Firstly the ambience and service of this place is great The buffet had a lot of items and the good was good  We had a Pumpkin Halwa intm the dessert which was amazing  Must try The kulchas are great here  Cheers      The best thing about the place is itxxxxxxxxs ambiance  Second best thing was yummy  food  We try buffet and buffet food was not disappointed us nTest       nQuality    nService Staff was very professional and friendly nnOverall experience was excellent nnsubirmajumder wixsite com      Great food and pleasant ambience  Expensive but Coll place to chill and relax      nnService is really very very good and friendly staff   nnFood  nService  nAmbience nOverall       Good ambience with tasty food nCheese chilli paratha with Bhutta palak methi curry is a good combo nLemon Chicken in the starters is a must try item nEgg fried rice was also quite tasty nIn the mocktails recommend Alice in Junoon  Do not miss it       You canxxxxxxxxt go wrong with Jalsa  Never been a fan of their buffet and thus always order alacartexxxxxxxx  Service at times can be on the slower side but food is worth the wait       Overdelighted by the service and food provided at this place  A royal and ethnic atmosphere builds a strong essence of being in India and also the quality and taste of food is truly authentic  I would totally recommend to visit this place once       The place is nice and comfortable  Food wise all jalea outlets maintain a good standard  The soya chaap was a standout dish  Clearly one of trademark dish as per me and a must try nnThe only concern is the parking  It very congested and limited to just cars  The basement parking is very steep and makes it cumbersome      The place is nice and comfortable  Food wise all jalea outlets maintain a good standard  The soya chaap was a standout dish  Clearly one of trademark dish as per me and a must try nnThe only concern is the parking  It very congested and limited to just cars  The basement parking is very steep and makes it cumbersome      The place is nice and comfortable  Food wise all jalea outlets maintain a good standard  The soya chaap was a standout dish  Clearly one of trademark dish as per me and a must try nnThe only concern is the parking  It very congested and limited to just cars  The basement parking is very steep and makes it cumbersome\n",
      "Sentiment(polarity=0.34151749856569125, subjectivity=0.574742780646395)\n"
     ]
    }
   ],
   "source": [
    "review = reviews[0]\n",
    "review = re.sub(\"\\.\",\" \",review)\n",
    "review = re.sub(\"[^A-Za-z ]\",\"\",review)\n",
    "review = re.sub(\"Rated\",\"\",review)\n",
    "review = re.sub(\"RATEDn\",\"\",review)\n",
    "score = textblob.TextBlob(review).sentiment\n",
    "print(review)\n",
    "print(score)"
   ]
  },
  {
   "cell_type": "raw",
   "id": "10cf75b2-ae69-448f-89b7-2f5d88c57c0b",
   "metadata": {},
   "source": []
  },
  {
   "cell_type": "raw",
   "id": "26f54ce3-7540-4c99-875e-ef93bb4e2ec5",
   "metadata": {},
   "source": []
  },
  {
   "cell_type": "code",
   "execution_count": 29,
   "id": "1e49d294-0f31-468e-8222-6e921c7c7d46",
   "metadata": {},
   "outputs": [
    {
     "data": {
      "text/plain": [
       "13"
      ]
     },
     "execution_count": 29,
     "metadata": {},
     "output_type": "execute_result"
    }
   ],
   "source": [
    "len(review)"
   ]
  },
  {
   "cell_type": "code",
   "execution_count": 30,
   "id": "7219863e-5ae8-443d-9d39-c9d703f58a2b",
   "metadata": {},
   "outputs": [
    {
     "name": "stdout",
     "output_type": "stream",
     "text": [
      "[('Rated 4.0', 'RATED\\n  A beautiful place to dine in.The interiors take you back to the Mughal era. The lightings are just perfect.We went there on the occasion of Christmas and so they had only limited items available. But the taste and service was not compromised at all.The only complaint is that the breads could have been better.Would surely like to come here again.'\n",
      ", ('Rated 4.0', 'RATED\\n  I was here for dinner with my family on a weekday. The restaurant was completely empty. Ambience is good with some good old hindi music. Seating arrangement are good too. We ordered masala papad, panner and baby corn starters, lemon and corrionder soup, butter roti, olive and chilli paratha. Food was fresh and good, service is good too. Good for family hangout.\\nCheers'\n",
      ", ('Rated 2.0', 'RATED\\n  Its a restaurant near to Banashankari BDA. Me along with few of my office friends visited to have buffet but unfortunately they only provide veg buffet. On inquiring they said this place is mostly visited by vegetarians. Anyways we ordered ala carte items which took ages to come. Food was ok ok. Definitely not visiting anymore.'\n",
      ", ('Rated 4.0', 'RATED\\n  We went here on a weekend and one of us had the buffet while two of us took Ala Carte. Firstly the ambience and service of this place is great! The buffet had a lot of items and the good was good. We had a Pumpkin Halwa intm the dessert which was amazing. Must try! The kulchas are great here. Cheers!'\n",
      ", ('Rated 5.0', 'RATED\\n  The best thing about the place is itÃ\\x83Ã\\x83Ã\\x82Ã\\x82Ã\\x83Ã\\x82Ã\\x82Ã\\x92s ambiance. Second best thing was yummy ? food. We try buffet and buffet food was not disappointed us.\\nTest ?. ?? ?? ?? ?? ??\\nQuality ?. ??????????.\\nService: Staff was very professional and friendly.\\n\\nOverall experience was excellent.\\n\\nsubirmajumder85.wixsite.com'\n",
      ", ('Rated 5.0', 'RATED\\n  Great food and pleasant ambience. Expensive but Coll place to chill and relax......\\n\\nService is really very very good and friendly staff...\\n\\nFood : 5/5\\nService : 5/5\\nAmbience :5/5\\nOverall :5/5'\n",
      ", ('Rated 4.0', 'RATED\\n  Good ambience with tasty food.\\nCheese chilli paratha with Bhutta palak methi curry is a good combo.\\nLemon Chicken in the starters is a must try item.\\nEgg fried rice was also quite tasty.\\nIn the mocktails, recommend \"Alice in Junoon\". Do not miss it.'\n",
      ", ('Rated 4.0', 'RATED\\n  You canÃ\\x83Ã\\x83Ã\\x82Ã\\x82Ã\\x83Ã\\x82Ã\\x82Ã\\x92t go wrong with Jalsa. Never been a fan of their buffet and thus always order alacarteÃ\\x83Ã\\x83Ã\\x82Ã\\x82Ã\\x83Ã\\x82Ã\\x82Ã\\x92. Service at times can be on the slower side but food is worth the wait.'\n",
      ", ('Rated 5.0', 'RATED\\n  Overdelighted by the service and food provided at this place. A royal and ethnic atmosphere builds a strong essence of being in India and also the quality and taste of food is truly authentic. I would totally recommend to visit this place once.'\n",
      ", ('Rated 4.0', 'RATED\\n  The place is nice and comfortable. Food wise all jalea outlets maintain a good standard. The soya chaap was a standout dish. Clearly one of trademark dish as per me and a must try.\\n\\nThe only concern is the parking. It very congested and limited to just 5cars. The basement parking is very steep and makes it cumbersome'\n",
      ", ('Rated 4.0', 'RATED\\n  The place is nice and comfortable. Food wise all jalea outlets maintain a good standard. The soya chaap was a standout dish. Clearly one of trademark dish as per me and a must try.\\n\\nThe only concern is the parking. It very congested and limited to just 5cars. The basement parking is very steep and makes it cumbersome'\n",
      ", ('Rated 4.0', 'RATED\\n  The place is nice and comfortable. Food wise all jalea outlets maintain a good standard. The soya chaap was a standout dish. Clearly one of trademark dish as per me and a must try.\\n\\nThe only concern is the parking. It very congested and limited to just 5cars. The basement parking is very steep and makes it cumbersome'\n",
      "]\n"
     ]
    }
   ],
   "source": [
    "for r in review:\n",
    "    print(r)"
   ]
  },
  {
   "cell_type": "code",
   "execution_count": 108,
   "id": "b54ba4f6-895b-42b7-96bf-8b4e4e28b095",
   "metadata": {},
   "outputs": [
    {
     "data": {
      "text/plain": [
       "3"
      ]
     },
     "execution_count": 108,
     "metadata": {},
     "output_type": "execute_result"
    }
   ],
   "source": [
    "len(\"asd\")"
   ]
  },
  {
   "cell_type": "code",
   "execution_count": 119,
   "id": "a1b2e932-674f-4581-8033-214fbb8941ad",
   "metadata": {},
   "outputs": [
    {
     "name": "stdout",
     "output_type": "stream",
     "text": [
      "[3.886325396825397, 2.796430724698582, 5.785097345636819, 12.57792591667591, 0.8290909090909091, 0.3333333333333333, 0.3390909090909091, 20.490991092241092, 19.583536424315973, 2.1113510101010102, 1.6841856060606062, 3.0942430508088403, 3.7297826479076477, 2.9588823483939035, 6.716168774208247, 1.0089047619047617, 0.04377289377289378, 0.6581060606060606, 0.31616666666666665, 1.9741666666666666, -0.14513888888888893, 0.16, 1.755654310966811, 0.18, 5.371640211640211, 1.5813131313131312, 58.94912367724868, 0.15218855218855218, 1.1519430569430569, 0.4775, 2.000505772005772, 10.657132464096751, 0.1, 2.4142736892736893, 40.135991963452085, 3.04719252044252, 26.098240079365084, 2.263360064178246, 21.21797287588954, 0.2854166666666667, 0.9, 0.4155555555555555, 1.2, 1.4198214285714288, 53.422535277222735, 12.887112921191871, 0.45579365079365075, 0.06710317460317458, 0.7023106060606061, 0.2264102564102564, 0.06755952380952383, 1.0865740740740741, 3.062689393939394, 3.045073953823954, 3.955179894179895, -0.08423382173382166, 0.005000000000000025, 55.32136228354987, 0.5067480158730159, 1.265079365079365, 31.61420675930172, 1.9056944444444444, 1.8184325396825398, 3.236601731601732, 5.107138347763347, 3.187824852163087, 1.8740991674447556, 2.2685904373404377, 5.188983766233766, -0.2229591836734694, 1.955348223205366, 2.640224008795437, 1.0015833333333333, 7.140998178288763, 1.1142757936507934, 0.0, 5.0013955026455035, -1.2131249999999998, 2.9256060606060608, 4.465381269964604, 0.7596969696969696, 1.6272997835497836, 1.3387301587301585, 0.02721088435374152, 0.4228571428571429, 5.8658859928651585, 6.9796134817563384, 1.798826599326599, 0.5759259259259258, 1.6449122807017544, -0.20454545454545459, 0.0, 0.0, 1.0297142857142858, 0.19999999999999998, 0.0, 0.675, 5.645935185185186, 0.3055555555555555, 0.16215277777777776, 7.823863465899178, 32.559626863876865, 0.9936111111111112, 12.538450877825879, 1.5813131313131312, 2.278018449804164, 0.4893447461629279, 0.0, 0.0, 0.0, -0.0464506172839506, 2.389760822510822, 0.0, 0.0, -0.475, 0.0, 1.3153741496598639, 0.0, 0.0, 1.1604894179894178, 1.948095238095238, 0.0, 0.7937445887445886, 1.9125355054302422, 3.0022126117346706, 0.0, 0.0, 1.2226666666666666, 0.0, 0.0, 0.0, 0.0, 0.0, 0.0, 0.5375, 0.0, 0.0, 0.0, 0.8866071428571429, 0.0, 0.0, 0.0, 0.0, 0.0, 0.0, 2.380768398268398, 0.98, 1.2945238095238094, 2.2083838383838383, 12.652167048637635, -0.028076923076923093, 0.7344771241830065, 0.2272706766917294, -0.09523809523809523, -0.09166666666666665, 3.9451948051948054, -0.07083333333333336, 0.06875000000000003, 0.35, 35.16426716141003, 1.4419444444444445, 0.3288624338624338, 0.8777777777777778, 0.29500000000000004, 8.005276609964108, 1.7133333333333334, 11.142579160257728, 0.3583333333333334, 0.7935784313725489, 85.18781385281396, 5.420458951762523, -2.234583333333333, 0.6104761904761904, 0.9099999999999999, 9.0940616501554, 0.35, 0.18634022839905187, 2.550909090909091, 0.8, -0.1484375, 4.3855538713069775, 3.441246600621601, 0.5201190476190476, 0.17689158667419533, 6.72410052910053, 2.3509970238095237, 0.21333333333333337, 2.2506807081807083, 13.278351037851035, 0.28559523809523807, 0.6584297052154195, 1.7431565656565657, 0.27, 1.6841856060606062, 0.5833333333333334, 0.0, -0.375, 0.9896825396825396, 1.4343274078862316, -0.14513888888888893, 0.5528138528138529, 0.5, 3.4182202380952376, 1.3524242424242425, 1.3093452380952384, 0.26944444444444443, 38.6409852485477, 4.470752745974784, 2.827322104978355, 3.999079896294182, 0.2633333333333333, 2.2440593973334346, 2.1113510101010102, 1.5295, 0.2767195767195767, -0.2833333333333333, 0.3214949494949495, 6.423845147907648, 4.982904761904762, 1.2392857142857143, 2.1765096856005948, 1.4731799866799866, 0.3713636363636364, 0.7272619047619047, 0.38819128787878787, 1.5878571428571426, 9.856319673151518, 20.470264624264633, 0.8215277777777779, 0.17539682539682536, 0.4775, 1.2735544217687074, 0.5, 0.0, 0.12604166666666666, 0.9078571428571427, 2.0035179063360897, 0.18712301587301586, 3.772321463939111, 0.3390909090909091, 0.0, 0.8024206349206349, -0.1433333333333333, 0.0, 0.0, 0.9331349206349207, -0.3074074074074074, 3.007962454212454, 35.37191741866756, 3.1594444444444445, 0.6095238095238095, 0.47354166666666664, 1.6073207070707072, 3.707478715728716, 1.0094226190476192, 1.4163095238095238, 0.4666666666666666, 0.3333333333333333, 0.28888888888888886, 0.5244444444444445, 0.42821428571428577, 10.318394383394384, 2.3459285714285714, 1.9014072039072036, 2.315, 0.0, 7.051815476190476, 1.7085714285714286, 0.18, 0.43333333333333335, 5.269817460317461, 1.022, -11.4190740740741, 0.7907494588744589, 0.34387755102040823, 0.19035714285714286, 0.0, 1.4751666666666665, 9.428596681096684, 1.0089047619047617, -0.21083333333333315, 0.2222222222222222, 12.723226641414144, 4.927939005439005, 3.841202610520792, 0.60578231292517, -0.9054820936639116, 0.7241666666666666, 0.8608333333333333, 0.0, 5.414984437053764, 0.4384583333333335, 1.8605146341753487, 0.16, 3.57679594017094, 1.3971875, 3.1467219932844923, 1.4266140572390573, 0.4083333333333333, 2.1680603543282113, -0.06666666666666668, 7.244645923520923, 22.141923076923064, 0.5152380952380952, 0.33398760330578514, 2.13873225308642, 0.0, 9.86666617895676, -49.06555089787562, 1.7083333333333335, 0.04377289377289378, 0.24, 0.09270833333333335, 28.408246309246298, 0.797888888888889, 1.932738095238095, 0.8530555555555555, -0.07307692307692307, -0.049999999999999996, 0.6233333333333333, 2.7052214452214454, 0.23055555555555554, 0.15833333333333335, 0.3507142857142857, -0.08194444444444444, 0.9, 0.4385497835497835, 2.526279761904762, 0.9995588235294119, 1.2627777777777778, 0.35624999999999996, 2.8666666666666663, 0.7252380952380952, 0.6960416666666667, 4.7438690476190475, 1.2312284334023467, 0.6581060606060606, 0.40306878306878313, 0.5618658424908425, 2.132416666666667, 1.3433833678398897, 3.070121933621934, 40.63083753868683, 0.6131666666666666, 0.575, 40.11129298941798, 0.5723055555555556, 6.999264069264069, 26.2985185185185, 0.08833333333333332, 0.6639583333333333, 48.58235978835977, 1.3109624819624819, -0.4, 1.9578566274994844, 10.248474025974026, 8.316333333333334, 8.099012272264275, 0.4425925925925926, 43.03948412698411, 12.211058407201264, 27.421883699633707, -0.32499999999999996, 0.19907407407407407, 0.0, 0.6850806768988587, 0.3111111111111111, 0.23239087301587305, 0.7283730158730158, 0.01656746031746033, 2.2466666666666666, 0.5859523809523808, 0.4333333333333333, 1.0777380952380953, 4.833379629629631, 12.76680771807557, 19.757623015873033, 0.7477777777777777, 0.8205952380952382, 2.4541666666666666, 1.5503896103896104, 1.2717182539682539, 1.384117549117549, 0.6806448992852502, 2.046111111111111, 0.04038461538461539, 0.7999999999999999, -1.681214285714285, 0.43476190476190474, -0.2066666666666667, 0.07656249999999999, 0.08750000000000002, 0.31499999999999995, 0.7549999999999999, 3.284070512820513]\n"
     ]
    }
   ],
   "source": [
    "print(scores)"
   ]
  },
  {
   "cell_type": "code",
   "execution_count": null,
   "id": "85649dc5-0d01-471e-9b6f-2b9546276a18",
   "metadata": {},
   "outputs": [],
   "source": []
  }
 ],
 "metadata": {
  "kernelspec": {
   "display_name": "Python 3",
   "language": "python",
   "name": "python3"
  },
  "language_info": {
   "codemirror_mode": {
    "name": "ipython",
    "version": 3
   },
   "file_extension": ".py",
   "mimetype": "text/x-python",
   "name": "python",
   "nbconvert_exporter": "python",
   "pygments_lexer": "ipython3",
   "version": "3.9.5"
  }
 },
 "nbformat": 4,
 "nbformat_minor": 5
}
